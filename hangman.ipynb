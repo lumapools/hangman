{
 "cells": [
  {
   "cell_type": "code",
   "execution_count": 55,
   "metadata": {},
   "outputs": [],
   "source": [
    "import random\n",
    "def generate_random_word(filename):\n",
    "    f = open(filename, \"r\")\n",
    "    words = f.readlines()\n",
    "    single_words = list(map(lambda elem: elem.replace(\"\\n\", \"\"), words))\n",
    "    single_words = list(filter(lambda elem: len(elem) > 5 and len(elem) < 15, single_words))\n",
    "    f.close()\n",
    "    return random.choice(single_words)"
   ]
  },
  {
   "cell_type": "code",
   "execution_count": 56,
   "metadata": {},
   "outputs": [],
   "source": [
    "random_word = generate_random_word(\"mit_word_list.txt\")"
   ]
  },
  {
   "cell_type": "code",
   "execution_count": 57,
   "metadata": {},
   "outputs": [],
   "source": [
    "def print_hangman_word(word, guesses):\n",
    "    word_to_print = \"\"\n",
    "    for i in range(len(word)):\n",
    "        word_to_print += f\"{word[i]} \"\n",
    "    guesses_str = \"[\"\n",
    "    for i in range(len(guesses)):\n",
    "        guesses_str += guesses[i] + (\" \" if i < len(guesses)-1 else \"]\")\n",
    "    \n",
    "    if guesses is not None and len(guesses) != 0:\n",
    "        print(f\"{word_to_print}, guesses: {guesses_str}\")\n",
    "    else:\n",
    "        print(f\"{word_to_print}\")"
   ]
  },
  {
   "cell_type": "code",
   "execution_count": 58,
   "metadata": {},
   "outputs": [],
   "source": [
    "def player_guess(player_guess_set):\n",
    "    while True:\n",
    "        guess = input(\"Enter a letter: \")\n",
    "        if guess not in player_guess_set and len(guess) == 1:\n",
    "            return guess"
   ]
  },
  {
   "cell_type": "code",
   "execution_count": 59,
   "metadata": {},
   "outputs": [],
   "source": [
    "def contains_underscore(word):\n",
    "    for i in range(len(word)):\n",
    "        if word[i] == '_':\n",
    "            return True\n",
    "    return False"
   ]
  },
  {
   "cell_type": "code",
   "execution_count": 60,
   "metadata": {},
   "outputs": [],
   "source": [
    "def replace_word_underscores_with_letter(player_word_in_progress, actual_word, letter):\n",
    "    for i in range(len(actual_word)):\n",
    "            if letter == actual_word[i]:\n",
    "                player_word_in_progress[i] = actual_word[i]\n",
    "                return True\n",
    "    return False"
   ]
  },
  {
   "cell_type": "code",
   "execution_count": 63,
   "metadata": {},
   "outputs": [],
   "source": [
    "def play_hangman(word, num_lives):\n",
    "    player_won = False\n",
    "    player_guess_list = []\n",
    "    player_word_in_progress = list(\"_\" * len(word))\n",
    "    while player_won is False and num_lives > 0:\n",
    "        print_hangman_word(player_word_in_progress, player_guess_list)\n",
    "        guessed_letter = player_guess(player_guess_list)\n",
    "        player_guess_list.append(guessed_letter)\n",
    "\n",
    "        success = replace_word_underscores_with_letter(player_word_in_progress, word, guessed_letter)\n",
    "\n",
    "        if success == False:\n",
    "            num_lives -= 1\n",
    "            print(f\"Lives remaining: {num_lives}\")      \n",
    "        \n",
    "        if contains_underscore(player_word_in_progress) is False:\n",
    "            player_won = True\n",
    "    print_hangman_word(player_word_in_progress, player_guess_list)\n",
    "    if player_won:\n",
    "        print(\"You won!\")\n",
    "        print(f\"The word was: {word}\")\n",
    "    if not player_won:\n",
    "        print(\"You lost...\")\n",
    "        print(f\"The word was: {word}\")"
   ]
  },
  {
   "cell_type": "code",
   "execution_count": 64,
   "metadata": {},
   "outputs": [
    {
     "name": "stdout",
     "output_type": "stream",
     "text": [
      "_ _ _ _ _ _ \n",
      "_ _ _ _ e _ , guesses: [e]\n",
      "Lives remaining: 9\n",
      "_ _ _ _ e _ , guesses: [e b]\n",
      "_ _ s _ e _ , guesses: [e b s]\n",
      "h _ s _ e _ , guesses: [e b s h]\n",
      "Lives remaining: 8\n",
      "h _ s _ e _ , guesses: [e b s h a]\n",
      "Lives remaining: 7\n",
      "h _ s _ e _ , guesses: [e b s h a l]\n",
      "Lives remaining: 6\n",
      "h _ s _ e _ , guesses: [e b s h a l i]\n",
      "Lives remaining: 5\n",
      "h _ s _ e _ , guesses: [e b s h a l i r]\n",
      "Lives remaining: 4\n",
      "h _ s _ e _ , guesses: [e b s h a l i r m]\n",
      "Lives remaining: 3\n",
      "h _ s _ e _ , guesses: [e b s h a l i r m n]\n",
      "Lives remaining: 2\n",
      "h _ s _ e _ , guesses: [e b s h a l i r m n p]\n",
      "h _ s t e _ , guesses: [e b s h a l i r m n p t]\n",
      "h o s t e _ , guesses: [e b s h a l i r m n p t o]\n",
      "h o s t e d , guesses: [e b s h a l i r m n p t o d]\n",
      "You won!\n",
      "The word was: hosted\n"
     ]
    }
   ],
   "source": [
    "play_hangman(random_word, 10)"
   ]
  }
 ],
 "metadata": {
  "kernelspec": {
   "display_name": "Python 3",
   "language": "python",
   "name": "python3"
  },
  "language_info": {
   "codemirror_mode": {
    "name": "ipython",
    "version": 3
   },
   "file_extension": ".py",
   "mimetype": "text/x-python",
   "name": "python",
   "nbconvert_exporter": "python",
   "pygments_lexer": "ipython3",
   "version": "3.10.6"
  },
  "orig_nbformat": 4
 },
 "nbformat": 4,
 "nbformat_minor": 2
}
