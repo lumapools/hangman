{
 "cells": [
  {
   "attachments": {},
   "cell_type": "markdown",
   "metadata": {},
   "source": [
    "## Hangman Game in Python\n",
    "Task: Create a Hangman game in Python:\n",
    "- The computer creates a word to guess and tells the user the length of the word with `_` characters.\n",
    "- The player has 10 lives\n",
    "- The player will guess the word\n",
    "- The player inputs letters one by one\n",
    "- If the player guesses a letter that is in the word, the computer replaces the corresponding `_` with the letter\n",
    "- If the player guesses a letter that is not in the word, the computer removes one life from the user\n",
    "- The game ends when the player has no lives left (`Lose`), or when the player guessed all the letters in the word (`Win`)."
   ]
  },
  {
   "attachments": {},
   "cell_type": "markdown",
   "metadata": {},
   "source": [
    "### 1) Choose a random word from the MIT word list"
   ]
  },
  {
   "cell_type": "code",
   "execution_count": 34,
   "metadata": {},
   "outputs": [],
   "source": [
    "import random\n",
    "def generate_random_word(filename):\n",
    "    f = open(filename, \"r\")\n",
    "    words = f.readlines()\n",
    "    single_words = list(map(lambda elem: elem.replace(\"\\n\", \"\"), words))\n",
    "    single_words = list(filter(lambda elem: len(elem) > 5 and len(elem) < 10, single_words))\n",
    "    f.close()\n",
    "    return random.choice(single_words)"
   ]
  },
  {
   "cell_type": "code",
   "execution_count": 41,
   "metadata": {},
   "outputs": [
    {
     "name": "stdout",
     "output_type": "stream",
     "text": [
      "keyboards\n"
     ]
    }
   ],
   "source": [
    "random_word = generate_random_word(\"mit_word_list.txt\")\n",
    "print(random_word)"
   ]
  },
  {
   "attachments": {},
   "cell_type": "markdown",
   "metadata": {},
   "source": [
    "### 2) Get a letter guess from the player\n",
    "Write a function `player_guess_letter` that\n",
    "- Takes one argument `player_guess_list`\n",
    "- Asks the player to input one single letter that is not contained in the `player_guess_list`\n",
    "- Returns the guess"
   ]
  },
  {
   "cell_type": "code",
   "execution_count": 14,
   "metadata": {},
   "outputs": [],
   "source": [
    "# TODO"
   ]
  },
  {
   "attachments": {},
   "cell_type": "markdown",
   "metadata": {},
   "source": [
    "### 2) Testing"
   ]
  },
  {
   "cell_type": "code",
   "execution_count": null,
   "metadata": {},
   "outputs": [],
   "source": [
    "guess_list = [\"a\", \"b\", \"c\"]\n",
    "guess = player_guess_letter(guess_list)"
   ]
  },
  {
   "attachments": {},
   "cell_type": "markdown",
   "metadata": {},
   "source": [
    "### 3) Checks how many occurences of `_` a string contains\n",
    "Write a function `contains_underscore` that\n",
    "- Takes one argument: a list of characters\n",
    "- Returns `True` if it contains an underscore, and `False` otherwise\n",
    "\n",
    "Example:\n",
    "- `[\"h\", \"e\", \"_\", \"_\", \"o\"]` should output `True`\n",
    "- `[\"h\", \"e\", \"l\", \"l\", \"o\"]` should output `False`\n"
   ]
  },
  {
   "cell_type": "code",
   "execution_count": 6,
   "metadata": {},
   "outputs": [],
   "source": [
    "# TODO"
   ]
  },
  {
   "attachments": {},
   "cell_type": "markdown",
   "metadata": {},
   "source": [
    "### 3) Testing"
   ]
  },
  {
   "cell_type": "code",
   "execution_count": null,
   "metadata": {},
   "outputs": [],
   "source": [
    "should_be_true = contains_underscore([\"h\", \"e\", \"_\", \"_\", \"o\"])\n",
    "should_be_false = contains_underscore([\"h\", \"e\", \"l\", \"l\", \"o\"])\n",
    "print(f\"should_be_true is {should_be_true}\")\n",
    "print(f\"should_be_false is {should_be_false}\")"
   ]
  },
  {
   "attachments": {},
   "cell_type": "markdown",
   "metadata": {},
   "source": [
    "### 4) Display the current guessed word, and the already guessed letters\n",
    "Write a function `print_word_to_show_to_player` that\n",
    "- Takes two arguments: a word (`string`), and the already guessed characters (`list` of characters)\n",
    "- prints the word and the already guessed letters"
   ]
  },
  {
   "cell_type": "code",
   "execution_count": 17,
   "metadata": {},
   "outputs": [],
   "source": [
    "def print_word_to_show_to_player(word, guesses):\n",
    "    word_to_print = \"\"\n",
    "    for i in range(len(word)):\n",
    "        word_to_print += f\"{word[i]} \"\n",
    "    guesses_str = \"[\"\n",
    "    for i in range(len(guesses)):\n",
    "        guesses_str += guesses[i] + (\" \" if i < len(guesses)-1 else \"]\")\n",
    "    \n",
    "    if guesses is not None and len(guesses) != 0:\n",
    "        print(f\"{word_to_print}, guesses: {guesses_str}\")\n",
    "    else:\n",
    "        print(f\"{word_to_print}\")"
   ]
  },
  {
   "attachments": {},
   "cell_type": "markdown",
   "metadata": {},
   "source": [
    "### 4) Testing"
   ]
  },
  {
   "cell_type": "code",
   "execution_count": 21,
   "metadata": {},
   "outputs": [
    {
     "name": "stdout",
     "output_type": "stream",
     "text": [
      "h e _ _ o , guesses: [e h a o]\n"
     ]
    }
   ],
   "source": [
    "print_word_to_show_to_player(\"he__o\", [\"e\", \"h\", \"a\", \"o\"])"
   ]
  },
  {
   "attachments": {},
   "cell_type": "markdown",
   "metadata": {},
   "source": [
    "### 5) Replace the underscores with the correct letter (when the player guesses)\n",
    "Write a function `replace_underscore_with_letter` that\n",
    "- Takes 3 arguments: `player_word_in_progress` the current word as the player sees it, `actual_word` the word the player has to guess, and `letter` the letter the player guesses\n",
    "- Replaces the underscores in `player_word_in_progress` with `letter` where necessary\n",
    "- Returns `True` if at least one character was replaced, and `False` otherwise\n",
    "Example: If the word to guess is `hello`, and the player only sees `_ _ _ _ _` and guesses `e`, then \n",
    "- `replace_underscore_with_letter(\"_ _ _ _ _\", \"hello\", \"e\")` will produce `_ e _ _ _`, and return `True`.\n",
    "However, if the player guesses the character `f`, nothing happens with the word as the player sees it, and the function returns `False`"
   ]
  },
  {
   "cell_type": "code",
   "execution_count": null,
   "metadata": {},
   "outputs": [],
   "source": [
    "# TODO"
   ]
  },
  {
   "attachments": {},
   "cell_type": "markdown",
   "metadata": {},
   "source": [
    "### 5) Testing"
   ]
  },
  {
   "cell_type": "code",
   "execution_count": null,
   "metadata": {},
   "outputs": [],
   "source": [
    "print(\"Success case:\")\n",
    "player_word_in_progress = \"h_ll_\"\n",
    "actual_word = \"hello\"\n",
    "letter1 = \"e\"\n",
    "should_be_true = replace_underscore_with_letter(player_word_in_progress, actual_word, letter1)\n",
    "print(f\"should_be_true is {should_be_true}\")\n",
    "print(f\"the new word the player will see is {player_word_in_progress}\")\n",
    "\n",
    "print(\"Failing case\")\n",
    "player_word_in_progress = \"h_ll_\"\n",
    "actual_word = \"hello\"\n",
    "letter2 = \"f\"\n",
    "should_be_false = replace_underscore_with_letter(player_word_in_progress, actual_word, letter2)\n",
    "print(f\"should_be_false is {should_be_false}\")\n",
    "print(f\"the new word the player will see is {player_word_in_progress}\")"
   ]
  },
  {
   "attachments": {},
   "cell_type": "markdown",
   "metadata": {},
   "source": [
    "### 6) Write the code for the game using the above functions\n",
    "Write a function called `play_hangman` that takes one argument `word_to_guess`, and does the following:\n",
    "1. Sets the inital conditions of the game (already done)\n",
    "2. While the player has not won and has remaining lives:\n",
    "- Prints the current word (with the guessed letters), in the beginning this will be only `_` characters\n",
    "- Asks the player to guess a letter\n",
    "- Adds the letter to the set of already guessed letters\n",
    "- Calls the `replace_underscore_with_letter` to replace the letter in the word as the player sees it (if it exists), and sets its output to `success` (`success` will be `True` if the letter is in the word, and `False` otherwise)\n",
    "- If `success` is `False`, we decrease the player's lives, otherwise we don't do anything with the player's lives.\n",
    "- Print out the remaining number of lives, i.e. `\"You have ... lives remaining!\"`\n",
    "3. If the player won, print out `You won!`, otherwise print `You lost!`\n",
    "4. Print out `\"The word was\"` and the word to guess."
   ]
  },
  {
   "cell_type": "code",
   "execution_count": null,
   "metadata": {},
   "outputs": [],
   "source": [
    "def play_hangman(word_to_guess):\n",
    "    player_won = False # The player has not even begun playing, so it has not won yet\n",
    "    player_guess_set = [] # The player has not guessed any words yet so the list is empty \n",
    "    player_word_in_progress = list(\"_\" * len(word_to_guess)) # Initially, the player only sees underscores\n",
    "    num_lives = 10 # Initial number of lives\n",
    "    while ...:\n",
    "        # TODO\n",
    "    # TODO"
   ]
  },
  {
   "attachments": {},
   "cell_type": "markdown",
   "metadata": {},
   "source": [
    "### 7) Play the game\n",
    "1. Generate a random word\n",
    "2. Call the `play_hangman` function with the random word as argument"
   ]
  },
  {
   "cell_type": "code",
   "execution_count": 9,
   "metadata": {},
   "outputs": [],
   "source": [
    "word = generate_random_word(\"mit_word_list.txt\")\n",
    "play_hangman(word)"
   ]
  }
 ],
 "metadata": {
  "kernelspec": {
   "display_name": "Python 3",
   "language": "python",
   "name": "python3"
  },
  "language_info": {
   "codemirror_mode": {
    "name": "ipython",
    "version": 3
   },
   "file_extension": ".py",
   "mimetype": "text/x-python",
   "name": "python",
   "nbconvert_exporter": "python",
   "pygments_lexer": "ipython3",
   "version": "3.10.6"
  },
  "orig_nbformat": 4
 },
 "nbformat": 4,
 "nbformat_minor": 2
}
