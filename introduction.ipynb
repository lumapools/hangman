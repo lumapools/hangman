{
 "cells": [
  {
   "attachments": {},
   "cell_type": "markdown",
   "metadata": {},
   "source": [
    "## Types"
   ]
  },
  {
   "cell_type": "code",
   "execution_count": 1,
   "metadata": {},
   "outputs": [],
   "source": [
    "my_int = 2 # Integer\n",
    "my_float = 3.28 # Float (numbers with decimals)\n",
    "my_boolean = False # Boolean (True or False)\n",
    "my_character = 'c' # A single character\n",
    "my_string = \"Hello!\" # Some text\n",
    "my_list = [1, 3, 2, 9, 2, 8] # An ordered collection of items\n",
    "my_set = {2, 3, 8} # An unordered collection of distinct items\n",
    "my_map = {\"apples\": 2, \"bananas\": 8, \"cherries\": 20} # A mapping (key -> value) of elements"
   ]
  },
  {
   "attachments": {},
   "cell_type": "markdown",
   "metadata": {},
   "source": [
    "## Useful Commands\n",
    "- $\\texttt{print(...)}$ displays something in the form of a text\n",
    "- $\\texttt{my\\_var = input(text)}$ asks the user for some input and stores the value in $\\texttt{my\\_var}$\n",
    "- $\\texttt{len(my\\_string\\_variable)}$ gives us the length of a string or a list\n",
    "- $\\texttt{string[i]}$ accesses a string at index $\\texttt{i}$ Ex. if $\\texttt{my\\_str}$ is $\\texttt{\"abc\"}$, $\\texttt{my\\_str[2] = 'c'}$. The same applies for lists.\n",
    "- Concatenate strings with $\\texttt{+}$. Ex. $\\texttt{\"Hello\" + \"welcome\"}$ => $\\texttt{\"Hellowelcome\"}$"
   ]
  },
  {
   "cell_type": "code",
   "execution_count": 18,
   "metadata": {},
   "outputs": [
    {
     "name": "stdout",
     "output_type": "stream",
     "text": [
      "hello\n"
     ]
    }
   ],
   "source": [
    "welcome_message = input(\"Say your welcome message: \")\n",
    "print(welcome_message)"
   ]
  },
  {
   "attachments": {},
   "cell_type": "markdown",
   "metadata": {},
   "source": [
    "## Conditional Statements"
   ]
  },
  {
   "cell_type": "code",
   "execution_count": 14,
   "metadata": {},
   "outputs": [
    {
     "name": "stdout",
     "output_type": "stream",
     "text": [
      "Your number is bigger than 10 but less than 20\n"
     ]
    }
   ],
   "source": [
    "\"\"\"\n",
    "if condition:\n",
    "    do_something\n",
    "elif another condition:\n",
    "    do_something_else\n",
    "else:\n",
    "    do_another_thing\n",
    "\n",
    "condition has to be an expression that evaluates to a boolean\n",
    "\"\"\"\n",
    "number = int(input(\"Type in a number: \"))\n",
    "if number < 10:\n",
    "    print(\"Your number is less than 10\")\n",
    "elif number < 20:\n",
    "    print(\"Your number is bigger than 10 but less than 20\")\n",
    "else:\n",
    "    print(\"Your number is bigger or equal to 20\")"
   ]
  },
  {
   "cell_type": "code",
   "execution_count": null,
   "metadata": {},
   "outputs": [],
   "source": [
    "## Tell me if the user types in apple, banana or something else\n",
    "text = input(\"Type in a word: \")\n",
    "## TODO"
   ]
  },
  {
   "attachments": {},
   "cell_type": "markdown",
   "metadata": {},
   "source": [
    "## Loops"
   ]
  },
  {
   "cell_type": "code",
   "execution_count": 11,
   "metadata": {},
   "outputs": [
    {
     "name": "stdout",
     "output_type": "stream",
     "text": [
      "0\n",
      "1\n",
      "2\n",
      "3\n",
      "4\n",
      "5\n",
      "6\n",
      "7\n",
      "8\n",
      "9\n"
     ]
    }
   ],
   "source": [
    "\"\"\"\n",
    "for ... :\n",
    "    do_something\n",
    "\n",
    "while condition:\n",
    "    do_something\n",
    "\"\"\"\n",
    "\n",
    "for i in range(10):\n",
    "    print(i)"
   ]
  },
  {
   "cell_type": "code",
   "execution_count": null,
   "metadata": {},
   "outputs": [],
   "source": [
    "## Tell me if a list of numbers contains the element 0 or not\n",
    "my_list = [9, 1, 2, 4, 2, 1, 2]\n",
    "## TODO"
   ]
  },
  {
   "cell_type": "code",
   "execution_count": 16,
   "metadata": {},
   "outputs": [],
   "source": [
    "# Tell me if a string contains the character 'c' or not\n",
    "my_string = input(\"Type in a string: \")\n",
    "## TODO"
   ]
  },
  {
   "cell_type": "code",
   "execution_count": 17,
   "metadata": {},
   "outputs": [
    {
     "data": {
      "text/plain": [
       "'\\ndef function_name(argument1, argument2, ...):\\n    do_something\\n    return something\\n'"
      ]
     },
     "execution_count": 17,
     "metadata": {},
     "output_type": "execute_result"
    }
   ],
   "source": [
    "## Functions\n",
    "\"\"\"\n",
    "def function_name(argument1, argument2, ...):\n",
    "    do_something\n",
    "    return something\n",
    "\"\"\""
   ]
  },
  {
   "cell_type": "code",
   "execution_count": 24,
   "metadata": {},
   "outputs": [],
   "source": [
    "import math\n",
    "## Create a calculator function that takes in 3 arguments: number1, number2 and operation\n",
    "# number1 and number2 are numbers, and operation is going to be \"add\", \"multiply\", \"divide\" or \"subtract\"\n",
    "# return the result\n",
    "# TODO\n",
    "\n",
    "# number1 : int (0, 2, 3, ...)\n",
    "# number2 : int (0, 2, 3, ...)\n",
    "# operation: \"add\", \"multiply\", \"divide\", \"subtract\"\n",
    "\n",
    "# my_integer = 4 => 100\n",
    "\n",
    "def calculate(number1, number2, operation):\n",
    "    if operation == \"add\":\n",
    "        return number1 + number2\n",
    "    elif operation == \"multiply\":\n",
    "        return number1 * number2\n",
    "    elif operation == \"divide\":\n",
    "        return number1 / number2\n",
    "    elif operation == \"subtract\":\n",
    "        return number1 - number2\n",
    "# calculate(1, 2, \"add\") => 3\n"
   ]
  },
  {
   "cell_type": "code",
   "execution_count": 26,
   "metadata": {},
   "outputs": [
    {
     "name": "stdout",
     "output_type": "stream",
     "text": [
      "3.141592653589793\n"
     ]
    }
   ],
   "source": [
    "result = calculate(math.pi, math.sqrt(2), \"divide\")\n",
    "print(math.pi)"
   ]
  },
  {
   "cell_type": "code",
   "execution_count": 27,
   "metadata": {},
   "outputs": [
    {
     "name": "stdout",
     "output_type": "stream",
     "text": [
      "0\n",
      "1\n",
      "2\n",
      "3\n",
      "4\n",
      "5\n",
      "6\n",
      "7\n",
      "8\n",
      "9\n"
     ]
    }
   ],
   "source": [
    "\"\"\"\n",
    "set i to 0\n",
    "while i < 10:\n",
    "    do_something\n",
    "    i = i+1\n",
    "do_something_else\n",
    "\"\"\"\n",
    "\n",
    "\n",
    "for i in range(10):\n",
    "    print(i)"
   ]
  },
  {
   "cell_type": "code",
   "execution_count": 40,
   "metadata": {},
   "outputs": [
    {
     "name": "stdout",
     "output_type": "stream",
     "text": [
      "i = 0, checking l against hello\n",
      "i = 1, checking l against hello\n",
      "i = 2, checking l against hello\n",
      "i = 3, checking l against hello\n",
      "i = 4, checking l against hello\n",
      "0\n"
     ]
    }
   ],
   "source": [
    "result = count(\"l\", \"hello\")\n",
    "print(result)"
   ]
  },
  {
   "cell_type": "code",
   "execution_count": 45,
   "metadata": {},
   "outputs": [],
   "source": [
    "# \"abcabc\"\n",
    "# \"aaialc\"\n",
    "def common_characters(string1, string2):\n",
    "    common_characters = set(string1).intersection(set(string2))\n",
    "    return common_characters, len(common_characters)"
   ]
  },
  {
   "cell_type": "code",
   "execution_count": 46,
   "metadata": {},
   "outputs": [
    {
     "name": "stdout",
     "output_type": "stream",
     "text": [
      "({'a', 'c'}, 2)\n"
     ]
    }
   ],
   "source": [
    "print(common_characters(\"abcabc\", \"aaialc\"))"
   ]
  },
  {
   "cell_type": "code",
   "execution_count": 37,
   "metadata": {},
   "outputs": [],
   "source": [
    "def count(character, string):\n",
    "    count = 0\n",
    "    for i in range(len(string)):\n",
    "        print(f\"i = {i}, checking {character} against {string}\")\n",
    "        if character == string[i]:\n",
    "            print(f\"Found {character} at index {i}\")\n",
    "            count = count + 1\n",
    "    return count"
   ]
  },
  {
   "cell_type": "code",
   "execution_count": 55,
   "metadata": {},
   "outputs": [],
   "source": [
    "def common_characters_iterate(string1, string2):\n",
    "    count = 0\n",
    "    common_characters = []\n",
    "    for i in range(len(string1)):\n",
    "        if string1[i] == string2[i]:\n",
    "            count = count + 1\n",
    "            common_characters.append(string1[i])\n",
    "    return count, common_characters"
   ]
  },
  {
   "cell_type": "code",
   "execution_count": 57,
   "metadata": {},
   "outputs": [
    {
     "name": "stdout",
     "output_type": "stream",
     "text": [
      "The number of common characters is 3\n",
      "The common characters are ['a', 'a', 'c']\n"
     ]
    }
   ],
   "source": [
    "count, common_characters = common_characters_iterate(\"abcabc\", \"aaialc\")\n",
    "print(f\"The number of common characters is {count}\")\n",
    "print(f\"The common characters are {common_characters}\")"
   ]
  }
 ],
 "metadata": {
  "kernelspec": {
   "display_name": "Python 3",
   "language": "python",
   "name": "python3"
  },
  "language_info": {
   "codemirror_mode": {
    "name": "ipython",
    "version": 3
   },
   "file_extension": ".py",
   "mimetype": "text/x-python",
   "name": "python",
   "nbconvert_exporter": "python",
   "pygments_lexer": "ipython3",
   "version": "3.10.6"
  },
  "orig_nbformat": 4
 },
 "nbformat": 4,
 "nbformat_minor": 2
}
